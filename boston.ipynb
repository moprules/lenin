{
 "cells": [
  {
   "cell_type": "code",
   "execution_count": 1,
   "metadata": {},
   "outputs": [],
   "source": [
    "%load_ext autoreload\n",
    "%autoreload 2\n",
    "\n",
    "import matplotlib.pyplot as plt\n",
    "import numpy as np"
   ]
  },
  {
   "cell_type": "code",
   "execution_count": 2,
   "metadata": {},
   "outputs": [],
   "source": [
    "import pandas as pd\n",
    "def load_boston():\n",
    "    df = pd.read_csv(\"boston.txt\", sep=r\"\\s+\", skiprows=22, header=None)\n",
    "    column_names = [\"CRIM\", \"ZN\", \"INDUS\", \"CHAS\", \"NOX\", \"RM\",\n",
    "                    \"AGE\", \"DIS\", \"RAD\", \"TAX\", \"PTRATIO\", \"B\", \"LSTAT\", \"MEDV\"]\n",
    "    df.columns = column_names\n",
    "    data = df.values[:, :-1]\n",
    "    target = df.values[:, [-1]]\n",
    "    features = np.array(column_names[:-1])\n",
    "    \n",
    "    return data, target, features\n",
    "\n",
    "data, target, features = load_boston()"
   ]
  },
  {
   "cell_type": "code",
   "execution_count": 3,
   "metadata": {},
   "outputs": [],
   "source": [
    "from sklearn.preprocessing import StandardScaler\n",
    "s = StandardScaler()\n",
    "data = s.fit_transform(data)"
   ]
  },
  {
   "cell_type": "code",
   "execution_count": null,
   "metadata": {},
   "outputs": [],
   "source": [
    "from sklearn.model_selection import train_test_split\n",
    "X_train, X_test, y_train, y_test = train_test_split(data, target, test_size=0.3, random_state=80718)"
   ]
  },
  {
   "cell_type": "code",
   "execution_count": 5,
   "metadata": {},
   "outputs": [],
   "source": [
    "import lenin\n",
    "from lenin import NeuralNetwork\n",
    "from lenin import Dense\n",
    "from lenin import Linear\n",
    "from lenin import Sigmoid\n",
    "from lenin import Tanh\n",
    "from lenin import MeanSquaredError\n",
    "from lenin import SGD\n",
    "from lenin import Trainer\n",
    "from lenin import mmetric\n"
   ]
  },
  {
   "cell_type": "code",
   "execution_count": 6,
   "metadata": {},
   "outputs": [
    {
     "name": "stdout",
     "output_type": "stream",
     "text": [
      "[ 10 epoch] loss: 30.293 | accuracy: 100.00%\n",
      "[ 20 epoch] loss: 28.469 | accuracy: 100.00%\n",
      "[ 30 epoch] loss: 26.293 | accuracy: 100.00%\n",
      "[ 40 epoch] loss: 25.541 | accuracy: 100.00%\n",
      "[ 50 epoch] loss: 25.087 | accuracy: 100.00%\n",
      "\n",
      "Mean absolute error: 3.52\n",
      "Root mean squared error 5.01\n"
     ]
    }
   ],
   "source": [
    "line_regression = NeuralNetwork(\n",
    "    layers=[Dense(neurons=1,\n",
    "                  activation=Linear())],\n",
    "    loss=MeanSquaredError(),\n",
    "    seed=20190501\n",
    ")\n",
    "model = line_regression\n",
    "\n",
    "trainer = Trainer(model, SGD(lr=0.01))\n",
    "\n",
    "trainer.fit(X_train, y_train,\n",
    "            X_test, y_test,\n",
    "            epochs = 50,\n",
    "            eval_every=10,\n",
    "            seed=20190501)\n",
    "\n",
    "mmetric.eval_regression_model(model, X_test, y_test)"
   ]
  },
  {
   "cell_type": "code",
   "execution_count": 7,
   "metadata": {},
   "outputs": [
    {
     "name": "stdout",
     "output_type": "stream",
     "text": [
      "[ 10 epoch] loss: 27.435 | accuracy: 100.00%\n",
      "[ 20 epoch] loss: 21.839 | accuracy: 100.00%\n",
      "[ 30 epoch] loss: 18.918 | accuracy: 100.00%\n",
      "[ 40 epoch] loss: 17.195 | accuracy: 100.00%\n",
      "[ 50 epoch] loss: 16.215 | accuracy: 100.00%\n",
      "\n",
      "Mean absolute error: 2.60\n",
      "Root mean squared error 4.03\n"
     ]
    }
   ],
   "source": [
    "net_regression = NeuralNetwork(\n",
    "    layers=[Dense(neurons=13,\n",
    "                  activation=Sigmoid()),\n",
    "            Dense(neurons=1,\n",
    "                  activation=Linear())],\n",
    "    loss=MeanSquaredError(),\n",
    "    seed=20190501\n",
    ")\n",
    "model = net_regression\n",
    "\n",
    "trainer = Trainer(model, SGD(lr=0.01))\n",
    "\n",
    "trainer.fit(X_train, y_train,\n",
    "            X_test, y_test,\n",
    "            epochs=50,\n",
    "            eval_every=10,\n",
    "            seed=20190501)\n",
    "\n",
    "mmetric.eval_regression_model(model, X_test, y_test)"
   ]
  },
  {
   "cell_type": "code",
   "execution_count": 9,
   "metadata": {},
   "outputs": [
    {
     "name": "stdout",
     "output_type": "stream",
     "text": [
      "[ 10 epoch] loss: 44.143 | accuracy: 100.00%\n",
      "[ 20 epoch] loss: 25.278 | accuracy: 100.00%\n",
      "[ 30 epoch] loss: 22.339 | accuracy: 100.00%\n",
      "[ 40 epoch] loss: 16.500 | accuracy: 100.00%\n",
      "[ 50 epoch] loss: 14.655 | accuracy: 100.00%\n",
      "\n",
      "Mean absolute error: 2.45\n",
      "Root mean squared error 3.83\n"
     ]
    }
   ],
   "source": [
    "deep_regression = NeuralNetwork(\n",
    "    layers=[Dense(neurons=13,\n",
    "                     activation=Sigmoid()),\n",
    "            Dense(neurons=13,\n",
    "                     activation=Sigmoid()),\n",
    "            Dense(neurons=1,\n",
    "                     activation=Linear())],\n",
    "    loss=MeanSquaredError(),\n",
    "    seed=20190501\n",
    ")\n",
    "model = deep_regression\n",
    "\n",
    "trainer = Trainer(model, SGD(lr=0.01))\n",
    "\n",
    "trainer.fit(X_train, y_train,\n",
    "            X_test, y_test,\n",
    "            epochs = 50,\n",
    "            eval_every=10,\n",
    "            seed=20190501)\n",
    "\n",
    "mmetric.eval_regression_model(model, X_test, y_test)"
   ]
  }
 ],
 "metadata": {
  "kernelspec": {
   "display_name": "venv",
   "language": "python",
   "name": "python3"
  },
  "language_info": {
   "codemirror_mode": {
    "name": "ipython",
    "version": 3
   },
   "file_extension": ".py",
   "mimetype": "text/x-python",
   "name": "python",
   "nbconvert_exporter": "python",
   "pygments_lexer": "ipython3",
   "version": "3.12.7"
  }
 },
 "nbformat": 4,
 "nbformat_minor": 2
}
