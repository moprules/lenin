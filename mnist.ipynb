{
 "cells": [
  {
   "cell_type": "code",
   "execution_count": 1,
   "metadata": {},
   "outputs": [],
   "source": [
    "%load_ext autoreload\n",
    "%autoreload 2\n",
    "\n",
    "import numpy as np\n",
    "import lenin\n",
    "import mnist\n",
    "\n",
    "RANDOM_SEED = 190119"
   ]
  },
  {
   "cell_type": "code",
   "execution_count": 2,
   "metadata": {},
   "outputs": [
    {
     "name": "stdout",
     "output_type": "stream",
     "text": [
      "Downloading http://yann.lecun.com/exdb/mnist/train-images-idx3-ubyte.gz\n",
      "Failed to download (trying next):\n",
      "HTTP Error 403: Forbidden\n",
      "\n",
      "Downloading https://ossci-datasets.s3.amazonaws.com/mnist/train-images-idx3-ubyte.gz\n",
      "Downloading https://ossci-datasets.s3.amazonaws.com/mnist/train-images-idx3-ubyte.gz to ./data/MNIST/raw/train-images-idx3-ubyte.gz\n"
     ]
    },
    {
     "name": "stderr",
     "output_type": "stream",
     "text": [
      "100.0%\n"
     ]
    },
    {
     "name": "stdout",
     "output_type": "stream",
     "text": [
      "Extracting ./data/MNIST/raw/train-images-idx3-ubyte.gz to ./data/MNIST/raw\n",
      "\n",
      "Downloading http://yann.lecun.com/exdb/mnist/train-labels-idx1-ubyte.gz\n",
      "Failed to download (trying next):\n",
      "HTTP Error 403: Forbidden\n",
      "\n",
      "Downloading https://ossci-datasets.s3.amazonaws.com/mnist/train-labels-idx1-ubyte.gz\n",
      "Downloading https://ossci-datasets.s3.amazonaws.com/mnist/train-labels-idx1-ubyte.gz to ./data/MNIST/raw/train-labels-idx1-ubyte.gz\n"
     ]
    },
    {
     "name": "stderr",
     "output_type": "stream",
     "text": [
      "100.0%\n"
     ]
    },
    {
     "name": "stdout",
     "output_type": "stream",
     "text": [
      "Extracting ./data/MNIST/raw/train-labels-idx1-ubyte.gz to ./data/MNIST/raw\n",
      "\n",
      "Downloading http://yann.lecun.com/exdb/mnist/t10k-images-idx3-ubyte.gz\n",
      "Failed to download (trying next):\n",
      "HTTP Error 403: Forbidden\n",
      "\n",
      "Downloading https://ossci-datasets.s3.amazonaws.com/mnist/t10k-images-idx3-ubyte.gz\n",
      "Downloading https://ossci-datasets.s3.amazonaws.com/mnist/t10k-images-idx3-ubyte.gz to ./data/MNIST/raw/t10k-images-idx3-ubyte.gz\n"
     ]
    },
    {
     "name": "stderr",
     "output_type": "stream",
     "text": [
      "100.0%\n"
     ]
    },
    {
     "name": "stdout",
     "output_type": "stream",
     "text": [
      "Extracting ./data/MNIST/raw/t10k-images-idx3-ubyte.gz to ./data/MNIST/raw\n",
      "\n",
      "Downloading http://yann.lecun.com/exdb/mnist/t10k-labels-idx1-ubyte.gz\n",
      "Failed to download (trying next):\n",
      "HTTP Error 403: Forbidden\n",
      "\n",
      "Downloading https://ossci-datasets.s3.amazonaws.com/mnist/t10k-labels-idx1-ubyte.gz\n",
      "Downloading https://ossci-datasets.s3.amazonaws.com/mnist/t10k-labels-idx1-ubyte.gz to ./data/MNIST/raw/t10k-labels-idx1-ubyte.gz\n"
     ]
    },
    {
     "name": "stderr",
     "output_type": "stream",
     "text": [
      "100.0%"
     ]
    },
    {
     "name": "stdout",
     "output_type": "stream",
     "text": [
      "Extracting ./data/MNIST/raw/t10k-labels-idx1-ubyte.gz to ./data/MNIST/raw\n",
      "\n",
      "Save complete.\n"
     ]
    },
    {
     "name": "stderr",
     "output_type": "stream",
     "text": [
      "\n"
     ]
    }
   ],
   "source": [
    "X_train, y_train, X_test, y_test = mnist.load()"
   ]
  },
  {
   "cell_type": "code",
   "execution_count": 3,
   "metadata": {},
   "outputs": [
    {
     "data": {
      "text/plain": [
       "60000"
      ]
     },
     "execution_count": 3,
     "metadata": {},
     "output_type": "execute_result"
    }
   ],
   "source": [
    "num_labels = len(y_train)\n",
    "num_labels"
   ]
  },
  {
   "cell_type": "code",
   "execution_count": 4,
   "metadata": {},
   "outputs": [],
   "source": [
    "# Будем писать простой классификатор\n",
    "# Для этого выходные данные из чисел 0,1,2,3,..,9\n",
    "# Нужно преобразовать к выходному слою классификатора\n",
    "# [1, 0, 0, 0, 0, 0, 0, 0, 0, 0, 0] - 0\n",
    "# [0, 0, 0, 0, 0, 1, 0, 0, 0, 0, 0] - 5\n",
    "# [0, 0, 0, 0, 0, 0, 0, 0, 0, 0, 1] - 9\n",
    "\n",
    "# Данными для обучения\n",
    "# Заполняем все нулями\n",
    "num_labels = len(y_train)\n",
    "train_labels = np.zeros((num_labels, 10))\n",
    "# Ставим единички, в соответсвии с числом\n",
    "for i in range(num_labels):\n",
    "    train_labels[i][y_train[i]] = 1\n",
    "\n",
    "# Данные для тестирования\n",
    "# Заполняем все нулями\n",
    "num_labels = len(y_test)\n",
    "test_labels = np.zeros((num_labels, 10))\n",
    "# Ставим единички, в соответсвии с числом\n",
    "for i in range(num_labels):\n",
    "    test_labels[i][y_test[i]] = 1"
   ]
  },
  {
   "cell_type": "code",
   "execution_count": 5,
   "metadata": {},
   "outputs": [],
   "source": [
    "X_train, X_test = X_train - np.mean(X_train), X_test - np.mean(X_train)"
   ]
  },
  {
   "cell_type": "code",
   "execution_count": 7,
   "metadata": {},
   "outputs": [
    {
     "data": {
      "text/plain": [
       "(np.float64(-33.318421449829934),\n",
       " np.float64(221.68157855017006),\n",
       " np.float64(-33.318421449829934),\n",
       " np.float64(221.68157855017006))"
      ]
     },
     "execution_count": 7,
     "metadata": {},
     "output_type": "execute_result"
    }
   ],
   "source": [
    "np.min(X_train), np.max(X_train), np.min(X_test), np.max(X_test)"
   ]
  },
  {
   "cell_type": "code",
   "execution_count": 8,
   "metadata": {},
   "outputs": [],
   "source": [
    "X_train, X_test = X_train / np.std(X_train), X_test / np.std(X_train)"
   ]
  },
  {
   "cell_type": "code",
   "execution_count": 9,
   "metadata": {},
   "outputs": [
    {
     "data": {
      "text/plain": [
       "(np.float64(-0.424073894391566),\n",
       " np.float64(2.821543345689335),\n",
       " np.float64(-0.424073894391566),\n",
       " np.float64(2.821543345689335))"
      ]
     },
     "execution_count": 9,
     "metadata": {},
     "output_type": "execute_result"
    }
   ],
   "source": [
    "np.min(X_train), np.max(X_train), np.min(X_test), np.max(X_test)"
   ]
  },
  {
   "cell_type": "code",
   "execution_count": 10,
   "metadata": {},
   "outputs": [
    {
     "name": "stdout",
     "output_type": "stream",
     "text": [
      "[ 10 epoch] loss: 2.960 | accuracy: 49.02%\n",
      "[ 20 epoch] loss: 2.128 | accuracy: 56.25%\n",
      "[ 30 epoch] loss: 1.545 | accuracy: 66.02%\n",
      "[ 40 epoch] loss: 1.419 | accuracy: 67.66%\n",
      "[ 50 epoch] loss: 1.324 | accuracy: 79.91%\n"
     ]
    },
    {
     "data": {
      "text/plain": [
       "'The model validation accuracy is: 79.91%'"
      ]
     },
     "execution_count": 10,
     "metadata": {},
     "output_type": "execute_result"
    }
   ],
   "source": [
    "# Tanh и MSE\n",
    "model = lenin.NeuralNetwork(\n",
    "    layers=[\n",
    "        lenin.Dense(neurons=89, activation=lenin.Tanh()),\n",
    "        lenin.Dense(neurons=10, activation=lenin.Tanh()),\n",
    "    ],\n",
    "    loss=lenin.MeanSquaredError(normalize=False),\n",
    "    seed=RANDOM_SEED,\n",
    ")\n",
    "\n",
    "trainer = lenin.Trainer(model, lenin.SGD(0.1))\n",
    "trainer.fit(\n",
    "    X_train,\n",
    "    train_labels,\n",
    "    X_test,\n",
    "    test_labels,\n",
    "    epochs=50,\n",
    "    eval_every=10,\n",
    "    seed=RANDOM_SEED,\n",
    "    batch_size=60,\n",
    ")\n",
    "\n",
    "lenin.mmetric.calc_accuracy_model(trainer.net, X_test, y_test)"
   ]
  },
  {
   "cell_type": "code",
   "execution_count": null,
   "metadata": {},
   "outputs": [
    {
     "name": "stdout",
     "output_type": "stream",
     "text": [
      "[ 10] loss: 0.576 | accuracy: 62.54%\n",
      "[ 20] loss: 0.577 | accuracy: 62.32%\n",
      "\n",
      "Loss increased after epoch: 20\n",
      "using model[ 10] loss:0.576\n"
     ]
    },
    {
     "data": {
      "text/plain": [
       "'The model validation accuracy is: 62.54%'"
      ]
     },
     "execution_count": 11,
     "metadata": {},
     "output_type": "execute_result"
    }
   ],
   "source": [
    "# MSE и нормализация данных при вычислении ошибки\n",
    "model = lenin.NeuralNetwork(\n",
    "    layers=[\n",
    "        lenin.Dense(neurons=89, activation=lenin.Sigmoid()),\n",
    "        lenin.Dense(neurons=10, activation=lenin.Sigmoid()),\n",
    "    ],\n",
    "    loss=lenin.MeanSquaredError(normalize=True),\n",
    "    seed=RANDOM_SEED,\n",
    ")\n",
    "\n",
    "trainer = lenin.Trainer(model, lenin.SGD(0.1))\n",
    "trainer.fit(\n",
    "    X_train,\n",
    "    train_labels,\n",
    "    X_test,\n",
    "    test_labels,\n",
    "    epochs=50,\n",
    "    eval_every=10,\n",
    "    seed=RANDOM_SEED,\n",
    "    batch_size=60,\n",
    ")\n",
    "\n",
    "lenin.mmetric.calc_accuracy_model(trainer.net, X_test, y_test)"
   ]
  },
  {
   "cell_type": "code",
   "execution_count": null,
   "metadata": {},
   "outputs": [
    {
     "name": "stdout",
     "output_type": "stream",
     "text": [
      "[ 10] loss: 0.637 | accuracy: 89.29%\n",
      "[ 20] loss: 0.578 | accuracy: 90.43%\n",
      "[ 30] loss: 0.557 | accuracy: 90.73%\n",
      "[ 40] loss: 0.555 | accuracy: 91.08%\n",
      "[ 50] loss: 0.556 | accuracy: 91.41%\n",
      "\n",
      "Loss increased after epoch: 50\n",
      "using model[ 40] loss:0.555\n"
     ]
    },
    {
     "data": {
      "text/plain": [
       "'The model validation accuracy is: 91.08%'"
      ]
     },
     "execution_count": 12,
     "metadata": {},
     "output_type": "execute_result"
    }
   ],
   "source": [
    "# SoftmaxCrossEntropy\n",
    "model = lenin.NeuralNetwork(\n",
    "    layers=[\n",
    "        lenin.Dense(neurons=89, activation=lenin.Tanh()),\n",
    "        lenin.Dense(neurons=10, activation=lenin.Linear()),\n",
    "    ],\n",
    "    loss=lenin.SoftmaxCrossEntropy(),\n",
    "    seed=RANDOM_SEED,\n",
    ")\n",
    "\n",
    "trainer = lenin.Trainer(model, lenin.SGD(0.1))\n",
    "trainer.fit(\n",
    "    X_train,\n",
    "    train_labels,\n",
    "    X_test,\n",
    "    test_labels,\n",
    "    epochs=50,\n",
    "    eval_every=10,\n",
    "    seed=RANDOM_SEED,\n",
    "    batch_size=60,\n",
    ")\n",
    "\n",
    "lenin.mmetric.calc_accuracy_model(trainer.net, X_test, y_test)"
   ]
  },
  {
   "cell_type": "code",
   "execution_count": null,
   "metadata": {},
   "outputs": [
    {
     "name": "stdout",
     "output_type": "stream",
     "text": [
      "[ 10] loss: 0.402 | accuracy: 93.56%\n",
      "[ 20] loss: 0.362 | accuracy: 94.53%\n",
      "[ 30] loss: 0.330 | accuracy: 95.18%\n",
      "[ 40] loss: 0.369 | accuracy: 94.91%\n",
      "\n",
      "Loss increased after epoch: 40\n",
      "using model[ 30] loss:0.330\n"
     ]
    },
    {
     "data": {
      "text/plain": [
       "'The model validation accuracy is: 95.18%'"
      ]
     },
     "execution_count": 13,
     "metadata": {},
     "output_type": "execute_result"
    }
   ],
   "source": [
    "# SoftmaxCrossEntropy + SGDMomentum\n",
    "model = lenin.NeuralNetwork(\n",
    "    layers=[\n",
    "        lenin.Dense(neurons=89, activation=lenin.Tanh()),\n",
    "        lenin.Dense(neurons=10, activation=lenin.Linear()),\n",
    "    ],\n",
    "    loss=lenin.SoftmaxCrossEntropy(),\n",
    "    seed=RANDOM_SEED,\n",
    ")\n",
    "\n",
    "trainer = lenin.Trainer(model, lenin.SGDMomentum(lr=0.1, momentum=0.9))\n",
    "trainer.fit(\n",
    "    X_train,\n",
    "    train_labels,\n",
    "    X_test,\n",
    "    test_labels,\n",
    "    epochs=50,\n",
    "    eval_every=10,\n",
    "    seed=RANDOM_SEED,\n",
    "    batch_size=60,\n",
    ")\n",
    "\n",
    "lenin.mmetric.calc_accuracy_model(trainer.net, X_test, y_test)"
   ]
  },
  {
   "cell_type": "code",
   "execution_count": null,
   "metadata": {},
   "outputs": [
    {
     "name": "stdout",
     "output_type": "stream",
     "text": [
      "[ 10] loss: 0.375 | accuracy: 94.10%\n",
      "[ 20] loss: 0.391 | accuracy: 93.97%\n",
      "\n",
      "Loss increased after epoch: 20\n",
      "using model[ 10] loss:0.375\n"
     ]
    },
    {
     "data": {
      "text/plain": [
       "'The model validation accuracy is: 94.10%'"
      ]
     },
     "execution_count": 14,
     "metadata": {},
     "output_type": "execute_result"
    }
   ],
   "source": [
    "# SoftmaxCrossEntropy + SGDMomentum + DecayLinear\n",
    "model = lenin.NeuralNetwork(\n",
    "    layers=[\n",
    "        lenin.Dense(neurons=89, activation=lenin.Tanh()),\n",
    "        lenin.Dense(neurons=10, activation=lenin.Linear()),\n",
    "    ],\n",
    "    loss=lenin.SoftmaxCrossEntropy(),\n",
    "    seed=RANDOM_SEED,\n",
    ")\n",
    "\n",
    "trainer = lenin.Trainer(model,\n",
    "                        lenin.SGDMomentum(lr=0.15,\n",
    "                                          final_lr=0.05,\n",
    "                                          decay_type=\"linear\",\n",
    "                                          momentum=0.9))\n",
    "trainer.fit(\n",
    "    X_train,\n",
    "    train_labels,\n",
    "    X_test,\n",
    "    test_labels,\n",
    "    epochs=50,\n",
    "    eval_every=10,\n",
    "    seed=RANDOM_SEED,\n",
    "    batch_size=60,\n",
    ")\n",
    "\n",
    "lenin.mmetric.calc_accuracy_model(trainer.net, X_test, y_test)"
   ]
  },
  {
   "cell_type": "code",
   "execution_count": null,
   "metadata": {},
   "outputs": [
    {
     "name": "stdout",
     "output_type": "stream",
     "text": [
      "[ 10] loss: 0.467 | accuracy: 93.04%\n",
      "[ 20] loss: 0.311 | accuracy: 95.49%\n",
      "[ 30] loss: 0.290 | accuracy: 95.76%\n",
      "[ 40] loss: 0.306 | accuracy: 96.02%\n",
      "\n",
      "Loss increased after epoch: 40\n",
      "using model[ 30] loss:0.290\n"
     ]
    },
    {
     "data": {
      "text/plain": [
       "'The model validation accuracy is: 95.76%'"
      ]
     },
     "execution_count": 15,
     "metadata": {},
     "output_type": "execute_result"
    }
   ],
   "source": [
    "# SoftmaxCrossEntropy + SGDMomentum + DecayExponential\n",
    "model = lenin.NeuralNetwork(\n",
    "    layers=[\n",
    "        lenin.Dense(neurons=89, activation=lenin.Tanh()),\n",
    "        lenin.Dense(neurons=10, activation=lenin.Linear()),\n",
    "    ],\n",
    "    loss=lenin.SoftmaxCrossEntropy(),\n",
    "    seed=RANDOM_SEED,\n",
    ")\n",
    "\n",
    "trainer = lenin.Trainer(model,\n",
    "                        lenin.SGDMomentum(lr=0.2,\n",
    "                                          final_lr=0.05,\n",
    "                                          decay_type=\"exponential\",\n",
    "                                          momentum=0.9))\n",
    "trainer.fit(\n",
    "    X_train,\n",
    "    train_labels,\n",
    "    X_test,\n",
    "    test_labels,\n",
    "    epochs=50,\n",
    "    eval_every=10,\n",
    "    seed=RANDOM_SEED,\n",
    "    batch_size=60,\n",
    ")\n",
    "\n",
    "lenin.mmetric.calc_accuracy_model(trainer.net, X_test, y_test)"
   ]
  },
  {
   "cell_type": "code",
   "execution_count": null,
   "metadata": {},
   "outputs": [
    {
     "name": "stdout",
     "output_type": "stream",
     "text": [
      "[ 10] loss: 0.344 | accuracy: 94.74%\n",
      "[ 20] loss: 0.272 | accuracy: 95.86%\n",
      "[ 30] loss: 0.254 | accuracy: 96.54%\n",
      "[ 40] loss: 0.275 | accuracy: 96.26%\n",
      "\n",
      "Loss increased after epoch: 40\n",
      "using model[ 30] loss: 0.254\n"
     ]
    },
    {
     "data": {
      "text/plain": [
       "'The model validation accuracy is: 96.54%'"
      ]
     },
     "execution_count": 15,
     "metadata": {},
     "output_type": "execute_result"
    }
   ],
   "source": [
    "# SoftmaxCrossEntropy + SGDMomentum + DecayExponential + WeightGLorotInit\n",
    "model = lenin.NeuralNetwork(\n",
    "    layers=[\n",
    "        lenin.Dense(neurons=89, activation=lenin.Tanh(), weight_init=\"glorot\"),\n",
    "        lenin.Dense(neurons=10, activation=lenin.Linear(),\n",
    "                    weight_init=\"glorot\")\n",
    "    ],\n",
    "    loss=lenin.SoftmaxCrossEntropy(),\n",
    "    seed=RANDOM_SEED,\n",
    ")\n",
    "\n",
    "trainer = lenin.Trainer(model,\n",
    "                        lenin.SGDMomentum(lr=0.2,\n",
    "                                          final_lr=0.05,\n",
    "                                          decay_type=\"exponential\",\n",
    "                                          momentum=0.9))\n",
    "trainer.fit(\n",
    "    X_train,\n",
    "    train_labels,\n",
    "    X_test,\n",
    "    test_labels,\n",
    "    epochs=50,\n",
    "    eval_every=10,\n",
    "    seed=RANDOM_SEED,\n",
    "    batch_size=60,\n",
    ")\n",
    "\n",
    "lenin.mmetric.calc_accuracy_model(trainer.net, X_test, y_test)"
   ]
  },
  {
   "cell_type": "code",
   "execution_count": null,
   "metadata": {},
   "outputs": [
    {
     "name": "stdout",
     "output_type": "stream",
     "text": [
      "[ 10] loss: 0.281 | accuracy: 95.17%\n",
      "[ 20] loss: 0.225 | accuracy: 96.27%\n",
      "[ 30] loss: 0.209 | accuracy: 96.56%\n",
      "[ 40] loss: 0.195 | accuracy: 96.85%\n",
      "[ 50] loss: 0.188 | accuracy: 96.82%\n"
     ]
    },
    {
     "data": {
      "text/plain": [
       "'The model validation accuracy is: 96.82%'"
      ]
     },
     "execution_count": 11,
     "metadata": {},
     "output_type": "execute_result"
    }
   ],
   "source": [
    "# SoftmaxCrossEntropy + SGDMomentum + DecayExponential + WeightGLorotInit + Dropout\n",
    "model = lenin.NeuralNetwork(\n",
    "    layers=[\n",
    "        lenin.Dense(neurons=89,\n",
    "                    activation=lenin.Tanh(),\n",
    "                    weight_init=\"glorot\",\n",
    "                    dropout=0.8),\n",
    "        lenin.Dense(neurons=10, activation=lenin.Linear(),\n",
    "                    weight_init=\"glorot\")\n",
    "    ],\n",
    "    loss=lenin.SoftmaxCrossEntropy(),\n",
    "    seed=RANDOM_SEED,\n",
    ")\n",
    "\n",
    "trainer = lenin.Trainer(model,\n",
    "                        lenin.SGDMomentum(lr=0.2,\n",
    "                                          final_lr=0.05,\n",
    "                                          decay_type=\"exponential\",\n",
    "                                          momentum=0.9))\n",
    "trainer.fit(\n",
    "    X_train,\n",
    "    train_labels,\n",
    "    X_test,\n",
    "    test_labels,\n",
    "    epochs=50,\n",
    "    eval_every=10,\n",
    "    seed=RANDOM_SEED,\n",
    "    batch_size=60,\n",
    ")\n",
    "\n",
    "lenin.mmetric.calc_accuracy_model(trainer.net, X_test, y_test)"
   ]
  },
  {
   "cell_type": "code",
   "execution_count": 12,
   "metadata": {},
   "outputs": [
    {
     "name": "stdout",
     "output_type": "stream",
     "text": [
      "[ 10 epoch] loss: 0.297 | accuracy: 95.14%\n",
      "[ 20 epoch] loss: 0.251 | accuracy: 95.91%\n",
      "[ 30 epoch] loss: 0.207 | accuracy: 96.66%\n",
      "[ 40 epoch] loss: 0.202 | accuracy: 96.86%\n",
      "[ 50 epoch] loss: 0.181 | accuracy: 97.09%\n"
     ]
    },
    {
     "data": {
      "text/plain": [
       "'The model validation accuracy is: 97.09%'"
      ]
     },
     "execution_count": 12,
     "metadata": {},
     "output_type": "execute_result"
    }
   ],
   "source": [
    "# DeepNet + SoftmaxCrossEntropy + SGDMomentum + DecayExponential + WeightGLorotInit + Dropout\n",
    "model = lenin.NeuralNetwork(\n",
    "    layers=[\n",
    "        lenin.Dense(neurons=178,\n",
    "                    activation=lenin.Tanh(),\n",
    "                    weight_init=\"glorot\",\n",
    "                    dropout=0.8),\n",
    "        lenin.Dense(neurons=46,\n",
    "                    activation=lenin.Tanh(),\n",
    "                    weight_init=\"glorot\",\n",
    "                    dropout=0.8),\n",
    "        lenin.Dense(neurons=10,\n",
    "                    activation=lenin.Linear(),\n",
    "                    weight_init=\"glorot\")\n",
    "    ],\n",
    "    loss=lenin.SoftmaxCrossEntropy(),\n",
    "    seed=RANDOM_SEED,\n",
    ")\n",
    "\n",
    "trainer = lenin.Trainer(model,\n",
    "                        lenin.SGDMomentum(lr=0.2,\n",
    "                                          final_lr=0.05,\n",
    "                                          decay_type=\"exponential\",\n",
    "                                          momentum=0.9))\n",
    "trainer.fit(\n",
    "    X_train,\n",
    "    train_labels,\n",
    "    X_test,\n",
    "    test_labels,\n",
    "    epochs=50,\n",
    "    eval_every=10,\n",
    "    seed=RANDOM_SEED,\n",
    "    batch_size=60,\n",
    ")\n",
    "\n",
    "lenin.mmetric.calc_accuracy_model(trainer.net, X_test, y_test)"
   ]
  },
  {
   "cell_type": "code",
   "execution_count": 9,
   "metadata": {},
   "outputs": [],
   "source": [
    "X_train_conv, X_test_conv = X_train.reshape(-1, 1, 28, 28), X_test.reshape(-1, 1, 28, 28)"
   ]
  },
  {
   "cell_type": "code",
   "execution_count": null,
   "metadata": {},
   "outputs": [],
   "source": [
    "model = lenin.NeuralNetwork(\n",
    "    layers=[lenin.Conv2D(out_channels=32,\n",
    "                         param_size=5,\n",
    "                         dropout=0.8,\n",
    "                         weight_init=\"glorot\",\n",
    "                         activation=lenin.Tanh(),\n",
    "                         flatten=True,\n",
    "                         fast=True),\n",
    "            lenin.Dense(neurons=10,\n",
    "                        activation=lenin.Linear())],\n",
    "    loss=lenin.SoftmaxCrossEntropy(),\n",
    "    seed=20190402)\n",
    "\n",
    "trainer = lenin.Trainer(model, lenin.SGDMomentum(lr=0.1, momentum=0.9))\n",
    "trainer.fit(X_train_conv, train_labels, X_test_conv, test_labels,\n",
    "            epochs=1,\n",
    "            eval_every=1,\n",
    "            seed=20190402,\n",
    "            batch_size=60,\n",
    "            conv_testing=True)"
   ]
  }
 ],
 "metadata": {
  "kernelspec": {
   "display_name": "venv",
   "language": "python",
   "name": "python3"
  },
  "language_info": {
   "codemirror_mode": {
    "name": "ipython",
    "version": 3
   },
   "file_extension": ".py",
   "mimetype": "text/x-python",
   "name": "python",
   "nbconvert_exporter": "python",
   "pygments_lexer": "ipython3",
   "version": "3.12.7"
  }
 },
 "nbformat": 4,
 "nbformat_minor": 2
}
